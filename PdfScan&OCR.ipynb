{
  "nbformat": 4,
  "nbformat_minor": 0,
  "metadata": {
    "colab": {
      "provenance": [],
      "authorship_tag": "ABX9TyPZbopxNcz0QQ+a+r2W3t8i",
      "include_colab_link": true
    },
    "kernelspec": {
      "name": "python3",
      "display_name": "Python 3"
    },
    "language_info": {
      "name": "python"
    }
  },
  "cells": [
    {
      "cell_type": "markdown",
      "metadata": {
        "id": "view-in-github",
        "colab_type": "text"
      },
      "source": [
        "<a href=\"https://colab.research.google.com/github/Subhashree1202/HealthRiskAnalysis_OCR/blob/main/PdfScan%26OCR.ipynb\" target=\"_parent\"><img src=\"https://colab.research.google.com/assets/colab-badge.svg\" alt=\"Open In Colab\"/></a>"
      ]
    },
    {
      "cell_type": "code",
      "execution_count": null,
      "metadata": {
        "id": "vVZlTluS3Ce_"
      },
      "outputs": [],
      "source": [
        "#pip install PyMuPDF Pillow\n",
        "#pip install pytesseract\n",
        "\n",
        "import numpy as np\n",
        "import pandas as pd\n",
        "import io\n",
        "from PIL import Image\n",
        "import pytesseract\n",
        "import fitz\n",
        "import os\n",
        "from os import listdir\n",
        "import json\n",
        "\n",
        "file = '..\\downloads\\capsule endoscopy.pdf'\n",
        "pdf_file = fitz.open(file)\n",
        "\n",
        "output_dir = \"extracted_images\"\n",
        "# Desired output image format\n",
        "output_format = \"png\"\n",
        "# Minimum width and height for extracted images\n",
        "min_width = 100\n",
        "min_height = 100\n",
        "\n",
        "for page_index in range(len(pdf_file)):\n",
        "    # Get the page itself\n",
        "    page = pdf_file[page_index]\n",
        "    # Get image list\n",
        "    image_list = page.get_images(full=True)\n",
        "    # Print the number of images found on this page\n",
        "    if image_list:\n",
        "        print(f\"[+] Found a total of {len(image_list)} images in page {page_index}\")\n",
        "    else:\n",
        "        print(f\"[!] No images found on page {page_index}\")\n",
        "    # Iterate over the images on the page\n",
        "    for image_index, img in enumerate(image_list, start=1):\n",
        "        # Get the XREF of the image\n",
        "        xref = img[0]\n",
        "        # Extract the image bytes\n",
        "        base_image = pdf_file.extract_image(xref)\n",
        "        image_bytes = base_image[\"image\"]\n",
        "        # Get the image extension\n",
        "        image_ext = base_image[\"ext\"]\n",
        "        # Load it to PIL\n",
        "        image = Image.open(io.BytesIO(image_bytes))\n",
        "        # Check if the image meets the minimum dimensions and save it\n",
        "        if image.width >= min_width and image.height >= min_height:\n",
        "            image.save(\n",
        "                open(os.path.join(output_dir, f\"image{page_index + 1}_{image_index}.{output_format}\"), \"wb\"),\n",
        "                format=output_format.upper())\n",
        "        else:\n",
        "            print(f\"[-] Skipping image {image_index} on page {page_index} due to its small size.\")\n",
        "\n",
        "\n",
        "for images in os.listdir(output_dir):\n",
        "    img = Image.open(os.path.join(output_dir,images))\n",
        "\n",
        "    # Passing the image object to image_to_string() function\n",
        "    # This function will extract the text from the image\n",
        "    text = pytesseract.image_to_string(img)\n",
        "\n",
        "    # Displaying the extracted text\n",
        "    jsonDict[images] = text\n",
        "json_obj = json.dumps(jsonDict)"
      ]
    }
  ]
}